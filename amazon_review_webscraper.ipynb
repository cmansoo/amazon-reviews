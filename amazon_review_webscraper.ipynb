{
 "cells": [
  {
   "cell_type": "markdown",
   "id": "dede806d",
   "metadata": {},
   "source": [
    "# amazon web scraper for customer reviews"
   ]
  },
  {
   "cell_type": "markdown",
   "id": "1a18e074",
   "metadata": {},
   "source": [
    "## amazon search query\n",
    "\n",
    "Amazon has a specific format for search query within url\n",
    "\n",
    "\n",
    "1. https://www.amazon.com/s?k=iphone+13\n",
    "\"s?k=\" is the path and any string after is the search item\n",
    "\n",
    "2. https://www.amazon.in/s?k=iphone+13&page=3\n",
    "same search query as 1. added \"&page={page-number}\" to scrape mltiple pages\n",
    "\n",
    "***3 could be wrong or unnecessary***\n",
    "3. https://www.amazon.com/Web-Scraping-Python-Collecting-Modern/product-reviews/1491910291?pageNumber=2\n",
    "amazon.../product-name/product-reivews/id\n",
    "\n",
    "amazon... and product-reviews is fixed\n",
    "***you must know the id for second url***\n",
    "id aka ASIN (amazon specific product id, displays each page)\n"
   ]
  },
  {
   "cell_type": "code",
   "execution_count": 3,
   "id": "62fc751a",
   "metadata": {},
   "outputs": [],
   "source": [
    "import requests\n",
    "\n",
    "from bs4 import BeautifulSoup\n",
    "from functools import reduce"
   ]
  },
  {
   "cell_type": "code",
   "execution_count": 4,
   "id": "e7a364fc",
   "metadata": {},
   "outputs": [],
   "source": [
    "# global variables\n",
    "BASE_URL = \"https://www.amazon.com/s?k=\"\n",
    "HEADERS = { 'User-Agent': 'Mozilla/5.0 (Windows NT 10.0; Win64; x64) AppleWebKit/537.36 (KHTML, like Gecko) Chrome/71.0.3578.98 Safari/537.36',\n",
    "            'Accept-Language': 'en-US, en;q=0,5'}\n",
    "# fake_headers = {\"abc\": \"def\"}"
   ]
  },
  {
   "cell_type": "code",
   "execution_count": 5,
   "id": "e7c09926",
   "metadata": {},
   "outputs": [],
   "source": [
    "# test query\n",
    "search_query = \"iphone+13\"\n",
    "url = BASE_URL + search_query\n",
    "\n",
    "# include headers to access web\n",
    "# HEADERS = { 'User-Agent': 'Mozilla/5.0 (Windows NT 10.0; Win64; x64) AppleWebKit/537.36 (KHTML, like Gecko) Chrome/71.0.3578.98 Safari/537.36',\n",
    "#             'Accept-Language': 'en-US, en;q=0,5'}\n",
    "\n",
    "search_result = requests.get(url, headers = HEADERS)\n",
    "# search_result = requests.get(url, headers = fake_headers)\n",
    "\n",
    "\n",
    "# construct soup\n",
    "soup = BeautifulSoup(search_result.text, 'html.parser')\n",
    "\n",
    "# url\n",
    "# if successful status_code shoud be 200\n",
    "# search_result.status_code\n",
    "\n",
    "# raw string of page source code\n",
    "# search_result.text\n",
    "# search_result.content\n",
    "\n",
    "# soup"
   ]
  },
  {
   "cell_type": "code",
   "execution_count": 6,
   "id": "88e2d1d9",
   "metadata": {},
   "outputs": [],
   "source": [
    "# user defined func\n",
    "# HEADERS = { 'User-Agent': 'Mozilla/5.0 (Windows NT 10.0; Win64; x64) AppleWebKit/537.36 (KHTML, like Gecko) Chrome/71.0.3578.98 Safari/537.36',\n",
    "#             'Accept-Language': 'en-US, en;q=0,5'}\n",
    "\n",
    "# follow the amazon specific query format, returns string\n",
    "\n",
    "# scrape the raw data, returns string of the html source code, unformatted, helper func\n",
    "def getpage(query):\n",
    "    url = BASE_URL + query\n",
    "    response = requests.get(url, headers = HEADERS)\n",
    "    \n",
    "    if response.status_code == 200:\n",
    "        return response.text\n",
    "    else:\n",
    "        return \"Error: status_code != 200\"\n",
    "\n",
    "# convert to html readable string, returns BeautifulSoup object, helper func\n",
    "def html_code(query):\n",
    "    return BeautifulSoup(getpage(query), 'html.parser')\n",
    "\n",
    "# test\n",
    "search_query = \"iphone+13\"\n",
    "\n",
    "# getpage(search_query)\n",
    "# html_code(search_query)"
   ]
  },
  {
   "cell_type": "markdown",
   "id": "7e69955a",
   "metadata": {},
   "source": [
    "## inspect the raw html data\n",
    "\n",
    "1. find product name\n",
    "\n",
    "notice that there is product name within a span tag with class=\"a-size-medium a-color-base a-text-normal\" \n",
    "\n",
    "e.g. <span class=\"a-size-medium a-color-base a-text-normal\">Apple iPhone 13 (128GB, Pink) [Locked] + Carrier Subscription</span>\n",
    "\n"
   ]
  },
  {
   "cell_type": "code",
   "execution_count": 8,
   "id": "490c2403",
   "metadata": {},
   "outputs": [
    {
     "data": {
      "text/plain": [
       "['Apple iPhone 13 (128GB, Pink) [Locked] + Carrier Subscription',\n",
       " 'Apple iPhone 13 Mini (128GB, Starlight) [Locked] + Carrier Subscription',\n",
       " 'Apple iPhone 13, 128GB, Blue - Unlocked (Renewed)',\n",
       " 'iPhone 13, 128GB, Blue - Unlocked (Renewed Premium)',\n",
       " 'iPhone 13 Pro, 128GB, Sierra Blue - Unlocked (Renewed Premium)',\n",
       " 'Apple iPhone 13 Mini, 128GB, Pink - Unlocked (Renewed)',\n",
       " 'iPhone 13 Mini, 128GB, Pink - Unlocked (Renewed Premium)',\n",
       " 'Apple iPhone 13 (128GB, Pink) [Locked] + Carrier Subscription',\n",
       " 'iPhone 13 Pro Max, 128GB, Graphite - Unlocked (Renewed Premium)',\n",
       " 'Apple iPhone 12 Pro, 128GB, Graphite - Fully Unlocked (Renewed)',\n",
       " 'Apple iPhone 12, 128GB, Green - Fully Unlocked (Renewed)',\n",
       " 'Apple iPhone 11 Pro, US Version, 256GB, Space Gray - Unlocked (Renewed)',\n",
       " 'Apple iPhone 13 Pro Max, 128GB, Graphite - Unlocked (Renewed)',\n",
       " 'Apple iPhone 13 Pro, 128GB, Graphite - Unlocked (Renewed)',\n",
       " 'Apple iPhone 11, 64GB, Yellow - Fully Unlocked (Renewed)',\n",
       " 'Apple iPhone 12 Pro Max, 128GB, Pacific Blue - Fully Unlocked (Renewed)',\n",
       " 'Apple iPhone 12 Mini, 64GB, Blue - Unlocked (Renewed)',\n",
       " 'Apple iPhone 12 Pro Max, 128GB, Pacific Blue - Unlocked (Renewed Premium)']"
      ]
     },
     "execution_count": 8,
     "metadata": {},
     "output_type": "execute_result"
    }
   ],
   "source": [
    "### use defined function\n",
    "# def getproduct(query, start = 1, end = None):\n",
    "#     \"\"\"\n",
    "#     query: string input. search items on amazon in browser url tab. \n",
    "#     if you wanted to search for \"iphone 13\", it would be \"iphone+13\"\n",
    "\n",
    "#     start: integer input. starting page number, default = 1\n",
    "    \n",
    "#     end: integer input. ending page number, default = None\n",
    "\n",
    "#     returns a list of product names from search\n",
    "#     \"\"\"\n",
    "#     products = []\n",
    "    \n",
    "#     if end == None:\n",
    "#         query = query + f\"&page={str(start)}\"\n",
    "#         htmldata = html_code(query)\n",
    "\n",
    "#         for elem in htmldata.find_all(\"span\", class_ = \"a-size-medium a-color-base a-text-normal\"):\n",
    "#             products.append(elem.text)\n",
    "\n",
    "#         return products\n",
    "\n",
    "#     else:\n",
    "#         pages = range(start, end)\n",
    "#         for n in pages:\n",
    "#             query = query + f\"&page={str(n)}\"\n",
    "#             htmldata = html_code(query)\n",
    "            \n",
    "#             for elem in htmldata.find_all(\"span\", class_ = \"a-size-medium a-color-base a-text-normal\"):\n",
    "#                 products.append(elem.text)\n",
    "        \n",
    "#         return products\n",
    "\n",
    "def getproduct(query, start = 1, end = None):\n",
    "    \"\"\"\n",
    "    query: string input. search items on amazon in browser url tab. \n",
    "    if you wanted to search for \"iphone 13\", it would be \"iphone+13\"\n",
    "\n",
    "    start: integer input. starting page number, default = 1\n",
    "    \n",
    "    end: integer input. ending page number, default = None\n",
    "\n",
    "    returns a list of product names from search\n",
    "    \"\"\"\n",
    "    products = []\n",
    "    \n",
    "    if end == None:\n",
    "        query = query + f\"&page={str(start)}\"\n",
    "        htmldata = html_code(query)\n",
    "\n",
    "        products = htmldata.find_all(\"span\", class_ = \"a-size-medium a-color-base a-text-normal\")\n",
    "        return list(map(lambda x: x.text, products))\n",
    "\n",
    "    else:\n",
    "        pages = range(start, end)\n",
    "        for n in pages:\n",
    "            query = query + f\"&page={str(n)}\"\n",
    "            htmldata = html_code(query)\n",
    "            \n",
    "            html_list = htmldata.find_all(\"span\", class_ = \"a-size-medium a-color-base a-text-normal\")\n",
    "            products.append(list(map(lambda x: x.text, html_list)))\n",
    "        \n",
    "        return products\n",
    "        \n",
    "\n",
    "# test\n",
    "# search_query = \"iphone+13\"\n",
    "\n",
    "getproduct(search_query)\n",
    "\n",
    "# getproduct(search_query, 1, 5)"
   ]
  },
  {
   "cell_type": "code",
   "execution_count": 10,
   "id": "0558e5f2",
   "metadata": {},
   "outputs": [],
   "source": [
    "?getproduct"
   ]
  },
  {
   "cell_type": "markdown",
   "id": "10c6f93c",
   "metadata": {},
   "source": [
    "references\n",
    "\n",
    "1. https://github.com/vaisakhnambiar/Web-scraping/blob/master/Amazon%20Scraping%20assignment.ipynb\n",
    "2. https://www.geeksforgeeks.org/web-scraping-amazon-customer-reviews/"
   ]
  }
 ],
 "metadata": {
  "kernelspec": {
   "display_name": "Python 3 (ipykernel)",
   "language": "python",
   "name": "python3"
  },
  "language_info": {
   "codemirror_mode": {
    "name": "ipython",
    "version": 3
   },
   "file_extension": ".py",
   "mimetype": "text/x-python",
   "name": "python",
   "nbconvert_exporter": "python",
   "pygments_lexer": "ipython3",
   "version": "3.10.6"
  }
 },
 "nbformat": 4,
 "nbformat_minor": 5
}
